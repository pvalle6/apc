{
 "cells": [
  {
   "cell_type": "markdown",
   "source": [
    "2.\tGiven a list:\n",
    "\n",
    "list_a = [3, 4, 6, 10, 39, 87, 12, 54]\n",
    "\n",
    "(a) Find the maximum, minimum, and summation number of the list\n",
    "(b) Sort the list in ascending order\n",
    "(c) Write a for loop to print each element in list_a\n"
   ],
   "metadata": {
    "collapsed": false
   },
   "id": "27b12d1b33b0b1e1"
  },
  {
   "cell_type": "code",
   "outputs": [],
   "source": [
    "list_a = [3, 4, 6, 10, 39, 87, 12, 54]"
   ],
   "metadata": {
    "collapsed": true,
    "ExecuteTime": {
     "end_time": "2025-01-29T16:02:52.635604500Z",
     "start_time": "2025-01-29T16:02:52.581012Z"
    }
   },
   "id": "initial_id",
   "execution_count": 1
  },
  {
   "cell_type": "code",
   "outputs": [],
   "source": [
    "# a\n",
    "# maximum\n",
    "\n",
    "def sort(l_list):\n",
    "    list_sort = l_list\n",
    "    h_var = None\n",
    "    for i in range(len(list_sort) - 1):\n",
    "        if list_sort[i] > list_sort[i + 1]:\n",
    "            h_var = list_sort[i + 1]\n",
    "            list_sort[i + 1] = list_sort[i]\n",
    "            list_sort[i] = h_var\n",
    "    \n",
    "    return list_sort\n",
    "\n",
    "sorted_list = sort(list_a)\n",
    "max = sorted_list[-1]\n",
    "min = sorted_list[0]\n",
    "\n",
    "def summation(a_list):\n",
    "    sum = 0\n",
    "    for i in a_list:\n",
    "        sum = sum + i\n",
    "        \n",
    "    return sum\n",
    "\n",
    "sum = summation(list_a)"
   ],
   "metadata": {
    "collapsed": false,
    "ExecuteTime": {
     "end_time": "2025-01-29T16:10:09.944124300Z",
     "start_time": "2025-01-29T16:10:09.942124600Z"
    }
   },
   "id": "76d6d6b94082f7b3",
   "execution_count": 4
  },
  {
   "cell_type": "code",
   "outputs": [
    {
     "name": "stdout",
     "output_type": "stream",
     "text": [
      "87\n",
      "3\n",
      "215\n"
     ]
    }
   ],
   "source": [
    "print(max)\n",
    "print(min)\n",
    "print(sum)"
   ],
   "metadata": {
    "collapsed": false,
    "ExecuteTime": {
     "end_time": "2025-01-29T16:10:17.968528600Z",
     "start_time": "2025-01-29T16:10:17.965335400Z"
    }
   },
   "id": "749cd09b9ac58a31",
   "execution_count": 5
  },
  {
   "cell_type": "markdown",
   "source": [
    "3.\tA prime number is a whole number greater than 1 whose only factors are 1 and itself. A factor is a whole number that can be divided evenly into another number. \n",
    "\n",
    "(a) Based on the definition of prime number, define a function to determine whether an input integer is a prime number or not\n",
    "(b) Find all prime numbers below 100\n",
    "(c) Define a function to find all prime numbers below a custom-defined number, n\n",
    "(d) Call your defined function to find all prime numbers with n = 1000\n"
   ],
   "metadata": {
    "collapsed": false
   },
   "id": "b6b784d23c0be63e"
  },
  {
   "cell_type": "code",
   "outputs": [],
   "source": [
    "def check_prime(integer_a):\n",
    "    if integer_a <= 1:\n",
    "        return False\n",
    "    prime = False\n",
    "    for i in range(2, integer_a):\n",
    "        if integer_a % i == 0:\n",
    "            prime = False\n",
    "        else:\n",
    "            prime = True\n",
    "            return True\n",
    "    if prime is False:\n",
    "        return False\n",
    "    \n",
    "for i in range(1, 100):\n",
    "    if check_prime(i):\n",
    "        print(i)\n",
    "\n",
    "def find_prime(n):\n",
    "    for i in range(1, n):\n",
    "        if check_prime(i):\n",
    "            print(i)\n",
    "            \n",
    "find_prime(1000)"
   ],
   "metadata": {
    "collapsed": false
   },
   "id": "46bdcc6e0b44b9cd"
  },
  {
   "cell_type": "markdown",
   "source": [
    "a) Define a function to output a 3D (n×3×3) numpy array, where n is the input value (argument) of the function to control the length of the array, and data is the input value that determines what kind of data it contains\n",
    "(b) Call the function for n=10 and populate the array with zeroes\n",
    "(c) Call the function for n=5 and populate the array with random numbers between 1 and 100\n"
   ],
   "metadata": {
    "collapsed": false
   },
   "id": "634a62ee3ce4f5a9"
  },
  {
   "cell_type": "code",
   "outputs": [],
   "source": [
    "import numpy as np\n",
    "\n",
    "def create_array(n, z):\n",
    "    if z:\n",
    "        array = np.zeros(shape=(n, 3, 3))\n",
    "        return array\n",
    "    else:\n",
    "        array = np.rand(shape=(n, 3, 3))\n",
    "        return array\n",
    "        \n",
    "    "
   ],
   "metadata": {
    "collapsed": false
   },
   "id": "264d303961aaac7"
  },
  {
   "cell_type": "markdown",
   "source": [
    "5.\tSolve following set of equations using linear algebra and numpy.\n",
    "\n",
    "3a + 4b -5c = 10\n",
    "5b + c = 8\n",
    "a + 3b + 6c = -5\n"
   ],
   "metadata": {
    "collapsed": false
   },
   "id": "bdb48924242c2a8a"
  },
  {
   "cell_type": "code",
   "outputs": [
    {
     "name": "stdout",
     "output_type": "stream",
     "text": [
      "[-1.7  1.9 -1.5]\n"
     ]
    }
   ],
   "source": [
    "import numpy as np\n",
    "\n",
    "coefficient_matrix = np.array([[3, 4, -5], [0, 5, 1], [1, 3, 6]])\n",
    "\n",
    "dependent_matrix = np.array([10, 8, -5])\n",
    "\n",
    "solution = np.linalg.solve(coefficient_matrix, dependent_matrix)\n",
    "\n",
    "print(solution)"
   ],
   "metadata": {
    "collapsed": false,
    "ExecuteTime": {
     "end_time": "2025-01-29T20:07:29.838081300Z",
     "start_time": "2025-01-29T20:07:29.820429500Z"
    }
   },
   "id": "ce0a9eeb32294c1a",
   "execution_count": 7
  },
  {
   "cell_type": "markdown",
   "source": [
    "6.\tGiven an expression:\n",
    "\n",
    "y = 0.1x^3-x^2+5\n",
    "\n",
    "(a) Plot the function in the range of x from -5 to 5\n",
    "(b) Find the maximum and minimum value of this function and add them with points and labels on the same figure\n"
   ],
   "metadata": {
    "collapsed": false
   },
   "id": "8a5e97338e66cb0e"
  },
  {
   "cell_type": "code",
   "outputs": [
    {
     "data": {
      "text/plain": "Text(0, -32.5, 'Min')"
     },
     "execution_count": 35,
     "metadata": {},
     "output_type": "execute_result"
    },
    {
     "data": {
      "text/plain": "<Figure size 640x480 with 1 Axes>",
      "image/png": "[encoded data removed]"
     },
     "metadata": {},
     "output_type": "display_data"
    }
   ],
   "source": [
    "def y_func(x):\n",
    "    return (0.1 * x ** 3) - (x ** 2) + 5\n",
    "\n",
    "import matplotlib.pyplot as plt\n",
    "\n",
    "values = [y_func(x) for x in range(-5, 5)]\n",
    "max = np.max(values)\n",
    "min = np.min(values)\n",
    "\n",
    "plt.plot(values)\n",
    "plt.ylabel(\"Function\")\n",
    "plt.plot(values.index(max), max, \"ro\")\n",
    "plt.text(values.index(max), max, s=\"Max\")\n",
    "plt.plot(values.index(min), min, \"go\")\n",
    "plt.text(values.index(min), min, s=\"Min\")"
   ],
   "metadata": {
    "collapsed": false,
    "ExecuteTime": {
     "end_time": "2025-01-29T20:30:03.137980Z",
     "start_time": "2025-01-29T20:30:02.975465900Z"
    }
   },
   "id": "da0b357f3dc9163c",
   "execution_count": 35
  },
  {
   "cell_type": "markdown",
   "source": [],
   "metadata": {
    "collapsed": false
   },
   "id": "d7f0a6d58e974bd9"
  }
 ],
 "metadata": {
  "kernelspec": {
   "display_name": "Python 3",
   "language": "python",
   "name": "python3"
  },
  "language_info": {
   "codemirror_mode": {
    "name": "ipython",
    "version": 2
   },
   "file_extension": ".py",
   "mimetype": "text/x-python",
   "name": "python",
   "nbconvert_exporter": "python",
   "pygments_lexer": "ipython2",
   "version": "2.7.6"
  }
 },
 "nbformat": 4,
 "nbformat_minor": 5
}
